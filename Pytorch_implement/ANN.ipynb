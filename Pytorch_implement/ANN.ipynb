{
 "cells": [
  {
   "cell_type": "markdown",
   "metadata": {},
   "source": [
    "# Importing Libraries"
   ]
  },
  {
   "cell_type": "code",
   "execution_count": 6,
   "metadata": {},
   "outputs": [],
   "source": [
    "import torch\n",
    "import torch.nn as nn\n",
    "import torch.nn.functional as F\n",
    "import torch.optim as optim \n",
    "from torchvision import datasets, transforms\n",
    "import matplotlib.pyplot as plt"
   ]
  },
  {
   "cell_type": "code",
   "execution_count": 7,
   "metadata": {},
   "outputs": [
    {
     "data": {
      "text/plain": [
       "<torch._C.Generator at 0x10e3f2710>"
      ]
     },
     "execution_count": 7,
     "metadata": {},
     "output_type": "execute_result"
    }
   ],
   "source": [
    "# For reproducibility\n",
    "torch.manual_seed(1)"
   ]
  },
  {
   "cell_type": "code",
   "execution_count": 8,
   "metadata": {},
   "outputs": [],
   "source": [
    "# Transforms: convert PIL image to Tensor and optionally normalize\n",
    "transform = transforms.Compose([\n",
    "    transforms.ToTensor(),\n",
    "    # For MNIST, pixel values range [0, 1]. Normalizing is optional.\n",
    "    # transforms.Normalize((0.1307,), (0.3081,))\n",
    "])\n",
    "\n",
    "# Download and load training data\n",
    "mnist_train = datasets.MNIST(root='data', train=True, download=True, transform=transform)\n",
    "mnist_val   = datasets.MNIST(root='data', train=False, download=True, transform=transform)\n",
    "\n",
    "# DataLoaders help batch and shuffle data\n",
    "train_loader = torch.utils.data.DataLoader(mnist_train, batch_size=64, shuffle=True)\n",
    "val_loader   = torch.utils.data.DataLoader(mnist_val, batch_size=64, shuffle=False)\n"
   ]
  },
  {
   "cell_type": "markdown",
   "metadata": {},
   "source": [
    "# Defining a Simple ANN"
   ]
  },
  {
   "cell_type": "code",
   "execution_count": 9,
   "metadata": {},
   "outputs": [],
   "source": [
    "class MNISTClassifier(nn.Module):\n",
    "    def __init__(self):\n",
    "        super(MNISTClassifier, self).__init__()\n",
    "\n",
    "        # First fully connected layer: 28*28 inputs -> 128 hidden units\n",
    "        self.layer1 = nn.Linear(28*28, 128)\n",
    "        # Second fully connected layer: 128 hidden units -> 10 outputs\n",
    "        self.layer2 = nn.Linear(128, 10)\n",
    "\n",
    "    def forward(self, img):\n",
    "\n",
    "        # Flatten the 2D image (28 x 28) into a 1D vector of size 784        \n",
    "        x=img.view(-1, 28*28)\n",
    "        # Pass through layer1, apply ReLU activation\n",
    "        x=F.relu(self.layer1(x))\n",
    "        # Pass through layer2, output is 10 logits        \n",
    "        x=self.layer2(x)\n",
    "\n",
    "        return x \n"
   ]
  },
  {
   "cell_type": "markdown",
   "metadata": {},
   "source": [
    "# Define Loss Function and Optimizer"
   ]
  },
  {
   "cell_type": "code",
   "execution_count": 10,
   "metadata": {},
   "outputs": [],
   "source": [
    "# Initialize the network\n",
    "model = MNISTClassifier()\n",
    "criterion = nn.CrossEntropyLoss()\n",
    "optimizer = optim.SGD(model.parameters(), lr=0.01, momentum=0.9)\n"
   ]
  },
  {
   "cell_type": "markdown",
   "metadata": {},
   "source": [
    "# Training Loop"
   ]
  },
  {
   "cell_type": "code",
   "execution_count": null,
   "metadata": {},
   "outputs": [
    {
     "name": "stdout",
     "output_type": "stream",
     "text": [
      "Epoch [1/5], Train Loss: 0.2319, Val Loss: 0.1878, Val Accuracy: 94.56%\n",
      "Epoch [2/5], Train Loss: 0.1737, Val Loss: 0.1538, Val Accuracy: 95.51%\n",
      "Epoch [3/5], Train Loss: 0.1389, Val Loss: 0.1316, Val Accuracy: 96.05%\n",
      "Epoch [4/5], Train Loss: 0.1157, Val Loss: 0.1201, Val Accuracy: 96.62%\n",
      "Epoch [5/5], Train Loss: 0.0995, Val Loss: 0.1046, Val Accuracy: 97.00%\n"
     ]
    }
   ],
   "source": [
    "def train_one_epoch(model, data_loader, optimizer, criterion):\n",
    "    model.train()  # put model in training mode\n",
    "    running_loss = 0.0\n",
    "    \n",
    "    for images, labels in data_loader:\n",
    "        # 1) Zero the parameter gradients\n",
    "        optimizer.zero_grad()\n",
    "        \n",
    "        # 2) Forward pass\n",
    "        outputs = model(images)\n",
    "        \n",
    "        # 3) Compute the loss\n",
    "        loss = criterion(outputs, labels)\n",
    "        \n",
    "        # 4) Backprop\n",
    "        loss.backward()\n",
    "        \n",
    "        # 5) Update the weights\n",
    "        optimizer.step()\n",
    "        \n",
    "        running_loss += loss.item()\n",
    "    \n",
    "    return running_loss / len(data_loader)\n",
    "\n",
    "def validate(model, data_loader, criterion):\n",
    "    model.eval()  # put model in eval mode (e.g. turns off dropout if any)\n",
    "    val_loss = 0.0\n",
    "    correct = 0\n",
    "    total = 0\n",
    "    \n",
    "    with torch.no_grad():  # no need to track gradients in eval\n",
    "        for images, labels in data_loader:\n",
    "            outputs = model(images)\n",
    "            loss = criterion(outputs, labels)\n",
    "            val_loss += loss.item()\n",
    "            \n",
    "            # Get predicted class by taking the argmax over the 10 logits\n",
    "            _, predicted = torch.max(outputs, dim=1)\n",
    "            total += labels.size(0)\n",
    "            correct += (predicted == labels).sum().item()\n",
    "    \n",
    "    accuracy = correct / total\n",
    "    return val_loss / len(data_loader), accuracy\n"
   ]
  },
  {
   "cell_type": "markdown",
   "metadata": {},
   "source": [
    "# Training"
   ]
  },
  {
   "cell_type": "code",
   "execution_count": null,
   "metadata": {},
   "outputs": [],
   "source": [
    "# Actual training\n",
    "num_epochs = 5\n",
    "for epoch in range(num_epochs):\n",
    "    train_loss = train_one_epoch(model, train_loader, optimizer, criterion)\n",
    "    val_loss, val_accuracy = validate(model, val_loader, criterion)\n",
    "    \n",
    "    print(f\"Epoch [{epoch+1}/{num_epochs}], \"\n",
    "          f\"Train Loss: {train_loss:.4f}, \"\n",
    "          f\"Val Loss: {val_loss:.4f}, \"\n",
    "          f\"Val Accuracy: {val_accuracy*100:.2f}%\")"
   ]
  }
 ],
 "metadata": {
  "kernelspec": {
   "display_name": "myenv",
   "language": "python",
   "name": "python3"
  },
  "language_info": {
   "codemirror_mode": {
    "name": "ipython",
    "version": 3
   },
   "file_extension": ".py",
   "mimetype": "text/x-python",
   "name": "python",
   "nbconvert_exporter": "python",
   "pygments_lexer": "ipython3",
   "version": "3.11.8"
  }
 },
 "nbformat": 4,
 "nbformat_minor": 2
}
