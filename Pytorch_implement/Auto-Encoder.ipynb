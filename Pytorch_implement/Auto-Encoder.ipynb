{
 "cells": [
  {
   "cell_type": "markdown",
   "metadata": {},
   "source": [
    "# Import Libraries"
   ]
  },
  {
   "cell_type": "code",
   "execution_count": 6,
   "metadata": {},
   "outputs": [],
   "source": [
    "import torch \n",
    "import torch.nn as nn \n",
    "import torch.functional as F\n",
    "import torch.optim as optim\n",
    "from torchvision import datasets, transforms"
   ]
  },
  {
   "cell_type": "markdown",
   "metadata": {},
   "source": [
    "# Autoencoder Architecture\n",
    "Below is an example autoencoder designed for grayscale images of shape (N, 1, H, W). If your data has 3 channels (e.g. RGB), just update the in_channels from 1 to 3 in the encoder, and similarly adjust the decoder layers."
   ]
  },
  {
   "cell_type": "code",
   "execution_count": 32,
   "metadata": {},
   "outputs": [],
   "source": [
    "class Autoencoder(nn.Module):\n",
    "    def __init__(self):\n",
    "        super(Autoencoder, self).__init__()\n",
    "        self.encoder = nn.Sequential(\n",
    "            # input: (N, 1, 28, 28)\n",
    "            nn.Conv2d(in_channels=1, out_channels=16, kernel_size=3, stride=2, padding=1),\n",
    "            nn.ReLU(),  # output: (N, 16, 14, 14)\n",
    "            \n",
    "            nn.Conv2d(in_channels=16, out_channels=32, kernel_size=3, stride=2, padding=1),\n",
    "            nn.ReLU(),  # output: (N, 32, 7, 7)\n",
    "        )\n",
    "        # DECODER\n",
    "        # Upsamples back to the original shape using ConvTranspose2d.\n",
    "        self.decoder = nn.Sequential(\n",
    "            # input: (N, 32, 7, 7)\n",
    "            nn.ConvTranspose2d(in_channels=32, out_channels=16, \n",
    "                               kernel_size=3, stride=2, \n",
    "                               padding=1, output_padding=1),\n",
    "            nn.ReLU(),  # output: (N, 16, 14, 14)\n",
    "            \n",
    "            nn.ConvTranspose2d(in_channels=16, out_channels=1, \n",
    "                               kernel_size=3, stride=2, \n",
    "                               padding=1, output_padding=1),\n",
    "            nn.Sigmoid()  # output: (N, 1, 28, 28)\n",
    "        )\n",
    "\n",
    "    def forward(self, x):\n",
    "        # Encode\n",
    "        encoded = self.encoder(x)\n",
    "        # Decode\n",
    "        decoded = self.decoder(encoded)\n",
    "        return decoded"
   ]
  },
  {
   "cell_type": "code",
   "execution_count": 33,
   "metadata": {},
   "outputs": [],
   "source": [
    "device = torch.device(\"cuda\" if torch.cuda.is_available() else \"cpu\")\n",
    "# device = 'mps'\n",
    "model = Autoencoder().to(device)"
   ]
  },
  {
   "cell_type": "code",
   "execution_count": 35,
   "metadata": {},
   "outputs": [
    {
     "name": "stdout",
     "output_type": "stream",
     "text": [
      "Train samples: 60000\n",
      "Validation samples: 10000\n"
     ]
    }
   ],
   "source": [
    "transform = transforms.ToTensor()\n",
    "\n",
    "# Use the local MNIST data in ./data/MNIST/raw\n",
    "train_dataset = datasets.MNIST(root='./data', train=True, download=False, transform=transform)\n",
    "val_dataset   = datasets.MNIST(root='./data', train=False, download=False, transform=transform)\n",
    "\n",
    "print(f\"Train samples: {len(train_dataset)}\")\n",
    "print(f\"Validation samples: {len(val_dataset)}\")\n",
    "\n",
    "train_loader = torch.utils.data.DataLoader(train_dataset, batch_size=64, shuffle=True)\n",
    "val_loader   = torch.utils.data.DataLoader(val_dataset, batch_size=64, shuffle=False)\n"
   ]
  },
  {
   "cell_type": "markdown",
   "metadata": {},
   "source": [
    "# Training Setup"
   ]
  },
  {
   "cell_type": "code",
   "execution_count": 36,
   "metadata": {},
   "outputs": [],
   "source": [
    "# Loss and optimizer\n",
    "criterion = nn.MSELoss()  # you can also use BCELoss if preferred\n",
    "optimizer = optim.Adam(model.parameters(), lr=1e-3)\n",
    "\n"
   ]
  },
  {
   "cell_type": "markdown",
   "metadata": {},
   "source": [
    "# Start Training"
   ]
  },
  {
   "cell_type": "code",
   "execution_count": 37,
   "metadata": {},
   "outputs": [
    {
     "name": "stdout",
     "output_type": "stream",
     "text": [
      "Epoch [1/1], Loss: 0.0144\n"
     ]
    }
   ],
   "source": [
    "# Training loop\n",
    "num_epochs = 1\n",
    "for epoch in range(num_epochs):\n",
    "    model.train()\n",
    "    running_loss = 0.0\n",
    "    \n",
    "    for images, _ in train_loader:\n",
    "        images = images.to(device)  # Move images to device\n",
    "        \n",
    "        # Forward pass\n",
    "        outputs = model(images)\n",
    "        loss = criterion(outputs, images)\n",
    "        \n",
    "        # Backward pass and optimization\n",
    "        optimizer.zero_grad()\n",
    "        loss.backward()\n",
    "        optimizer.step()\n",
    "        \n",
    "        running_loss += loss.item()\n",
    "    \n",
    "    epoch_loss = running_loss / len(train_loader)\n",
    "    print(f\"Epoch [{epoch+1}/{num_epochs}], Loss: {epoch_loss:.4f}\")\n"
   ]
  },
  {
   "cell_type": "markdown",
   "metadata": {},
   "source": [
    "# Visualization"
   ]
  },
  {
   "cell_type": "code",
   "execution_count": 38,
   "metadata": {},
   "outputs": [],
   "source": [
    "import matplotlib.pyplot as plt"
   ]
  },
  {
   "cell_type": "code",
   "execution_count": 39,
   "metadata": {},
   "outputs": [
    {
     "data": {
      "image/png": "[encoded data removed]",
      "text/plain": [
       "<Figure size 900x300 with 12 Axes>"
      ]
     },
     "metadata": {},
     "output_type": "display_data"
    }
   ],
   "source": [
    "# Visualize some reconstructions on the validation set\n",
    "model.eval()\n",
    "with torch.no_grad():\n",
    "    images, _ = next(iter(val_loader))\n",
    "    images = images.to(device)\n",
    "    reconstructions = model(images)\n",
    "\n",
    "# Move tensors to CPU for visualization\n",
    "images = images.cpu()\n",
    "reconstructions = reconstructions.cpu()\n",
    "\n",
    "# Plot original and reconstructed images\n",
    "fig, axes = plt.subplots(2, 6, figsize=(9, 3))\n",
    "for i in range(6):\n",
    "    # Original images\n",
    "    axes[0, i].imshow(images[i][0], cmap='gray')\n",
    "    axes[0, i].set_title(\"Original\")\n",
    "    axes[0, i].axis('off')\n",
    "    \n",
    "    # Reconstructed images\n",
    "    axes[1, i].imshow(reconstructions[i][0], cmap='gray')\n",
    "    axes[1, i].set_title(\"Reconstructed\")\n",
    "    axes[1, i].axis('off')\n",
    "\n",
    "plt.tight_layout()\n",
    "plt.show()"
   ]
  }
 ],
 "metadata": {
  "kernelspec": {
   "display_name": "myenv",
   "language": "python",
   "name": "python3"
  },
  "language_info": {
   "codemirror_mode": {
    "name": "ipython",
    "version": 3
   },
   "file_extension": ".py",
   "mimetype": "text/x-python",
   "name": "python",
   "nbconvert_exporter": "python",
   "pygments_lexer": "ipython3",
   "version": "3.11.8"
  }
 },
 "nbformat": 4,
 "nbformat_minor": 2
}
