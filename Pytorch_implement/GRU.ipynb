{
 "cells": [
  {
   "cell_type": "code",
   "execution_count": null,
   "metadata": {
    "vscode": {
     "languageId": "plaintext"
    }
   },
   "outputs": [],
   "source": [
    "import torch\n",
    "import torch.nn as nn\n",
    "\n",
    "class SentimentAnalysis(nn.Module):\n",
    "    def __init__(self, vocab_size, hidden_size, n_layers=1):\n",
    "        super(SentimentAnalysis, self).__init__()\n",
    "        \n",
    "        # Create an identity matrix of size [vocab_size, vocab_size].\n",
    "        # We'll use this as a \"lookup\" to transform token indices into one-hot vectors.\n",
    "        self.ident = torch.eye(vocab_size)\n",
    "        \n",
    "        # Define a GRU.\n",
    "        # input_size = vocab_size, since our one-hot vectors are of length vocab_size.\n",
    "        # hidden_size is the dimension of the hidden state.\n",
    "        # n_layers is the number of stacked GRU layers.\n",
    "        self.rnn = nn.GRU(\n",
    "            input_size=vocab_size,\n",
    "            hidden_size=hidden_size,\n",
    "            num_layers=n_layers,\n",
    "            batch_first=True\n",
    "        )\n",
    "        \n",
    "        # A linear layer to map from hidden_size back to vocab_size (e.g., for next-token prediction).\n",
    "        self.decoder = nn.Linear(in_features=hidden_size, out_features=vocab_size)\n",
    "\n",
    "    def forward(self, inp, hidden):\n",
    "        \"\"\"\n",
    "        Args:\n",
    "            inp: a 1D tensor of token indices, e.g. [seq_length] \n",
    "                 or shape [batch_size, seq_length] if you want to handle a batch\n",
    "            hidden: the initial hidden state for the GRU (shape [n_layers, batch_size, hidden_size])\n",
    "        \n",
    "        Returns:\n",
    "            logits: the output of the decoder (shape [batch_size, seq_length, vocab_size] if using batch_first)\n",
    "            hidden: the final hidden state of the GRU\n",
    "        \"\"\"\n",
    "        \n",
    "        # Reshape inp so it has shape [batch_size=1, seq_length] if it's just a single sequence.\n",
    "        # Adjust as needed if you're working with batches.\n",
    "        inp = inp.view(1, -1)  # shape: [1, seq_length]\n",
    "        \n",
    "        # Convert token indices to one-hot vectors using self.ident.\n",
    "        # For each token index in inp, we select the corresponding row in self.ident.\n",
    "        # That yields shape [1, seq_length, vocab_size].\n",
    "        inp = self.ident[inp]  \n",
    "        \n",
    "        # Pass the one-hot vectors through the GRU.\n",
    "        # output shape: [batch_size, seq_length, hidden_size]\n",
    "        # hidden shape: [n_layers, batch_size, hidden_size]\n",
    "        output, hidden = self.rnn(inp, hidden)\n",
    "        \n",
    "        # Decode the GRU output with a linear layer.\n",
    "        # Squeeze out the batch dimension if you want shape [seq_length, vocab_size].\n",
    "        # Or keep it if you're working with batch_first output.\n",
    "        logits = self.decoder(output.squeeze(0))  # shape: [seq_length, vocab_size]\n",
    "        \n",
    "        return logits, hidden\n"
   ]
  }
 ],
 "metadata": {
  "language_info": {
   "name": "python"
  }
 },
 "nbformat": 4,
 "nbformat_minor": 2
}
