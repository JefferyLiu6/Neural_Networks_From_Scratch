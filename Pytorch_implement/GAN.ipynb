{
 "cells": [
  {
   "cell_type": "markdown",
   "metadata": {},
   "source": [
    "# Imports"
   ]
  },
  {
   "cell_type": "code",
   "execution_count": 2,
   "metadata": {},
   "outputs": [],
   "source": [
    "import torch\n",
    "import torch.nn as nn\n",
    "import torch.nn.functional as F\n",
    "import torch.optim as optim\n",
    "from torchvision import datasets, transforms\n",
    "import matplotlib.pyplot as plt\n"
   ]
  },
  {
   "cell_type": "code",
   "execution_count": 3,
   "metadata": {},
   "outputs": [
    {
     "name": "stdout",
     "output_type": "stream",
     "text": [
      "Using device: mps\n"
     ]
    }
   ],
   "source": [
    "# Check if GPU is available\n",
    "#device = torch.device(\"cuda\" if torch.cuda.is_available() else \"cpu\")\n",
    "device = 'mps'\n",
    "print(\"Using device:\", device)\n"
   ]
  },
  {
   "cell_type": "code",
   "execution_count": 8,
   "metadata": {},
   "outputs": [],
   "source": [
    "class Discriminator(nn.Module):\n",
    "    def __init__(self, in_dim=28*28, hidden_dim=300):\n",
    "        super(Discriminator, self).__init__()\n",
    "        self.model = nn.Sequential(\n",
    "            nn.Linear(in_dim, hidden_dim),\n",
    "            nn.LeakyReLU(0.2),\n",
    "            nn.Linear(hidden_dim, 1),\n",
    "            # We'll use BCEWithLogitsLoss, so no final Sigmoid() here\n",
    "        )\n",
    "        \n",
    "    def forward(self, x):\n",
    "        # Flatten the input: (N, 1, 28, 28) -> (N, 784)\n",
    "        x = x.view(x.size(0), -1)\n",
    "        out = self.model(x)\n",
    "        return out\n",
    "\n",
    "discriminator = Discriminator().to(device)"
   ]
  },
  {
   "cell_type": "code",
   "execution_count": 9,
   "metadata": {},
   "outputs": [],
   "source": [
    "batch_size = 64\n",
    "z_dim = 100   # dimension of the random noise vector\n",
    "lr = 1e-3\n",
    "num_epochs = 5"
   ]
  },
  {
   "cell_type": "code",
   "execution_count": 10,
   "metadata": {},
   "outputs": [],
   "source": [
    "class Generator(nn.Module):\n",
    "    def __init__(self, z_dim=100, hidden_dim=300, out_dim=28*28):\n",
    "        super(Generator, self).__init__()\n",
    "        self.model = nn.Sequential(\n",
    "            nn.Linear(z_dim, hidden_dim),\n",
    "            nn.LeakyReLU(0.2),\n",
    "            nn.Linear(hidden_dim, out_dim),\n",
    "            nn.Sigmoid()  # output in [0,1]\n",
    "        )\n",
    "        \n",
    "    def forward(self, x):\n",
    "        out = self.model(x)\n",
    "        # Reshape to (N, 1, 28, 28) for images\n",
    "        out = out.view(x.size(0), 1, 28, 28)\n",
    "        return out\n",
    "\n",
    "generator = Generator(z_dim=z_dim).to(device)"
   ]
  },
  {
   "cell_type": "code",
   "execution_count": 11,
   "metadata": {},
   "outputs": [
    {
     "name": "stdout",
     "output_type": "stream",
     "text": [
      "Train samples: 60000\n",
      "Validation samples: 10000\n"
     ]
    }
   ],
   "source": [
    "transform = transforms.ToTensor()\n",
    "\n",
    "# Use the local MNIST data in ./data/MNIST/raw\n",
    "train_dataset = datasets.MNIST(root='./data', train=True, download=False, transform=transform)\n",
    "val_dataset   = datasets.MNIST(root='./data', train=False, download=False, transform=transform)\n",
    "\n",
    "print(f\"Train samples: {len(train_dataset)}\")\n",
    "print(f\"Validation samples: {len(val_dataset)}\")\n",
    "\n",
    "train_loader = torch.utils.data.DataLoader(train_dataset, batch_size=64, shuffle=True)\n",
    "val_loader   = torch.utils.data.DataLoader(val_dataset, batch_size=64, shuffle=False)"
   ]
  },
  {
   "cell_type": "code",
   "execution_count": 12,
   "metadata": {},
   "outputs": [],
   "source": [
    "criterion = nn.BCEWithLogitsLoss()\n",
    "\n",
    "# Separate optimizers for generator and discriminator\n",
    "optimizer_g = optim.Adam(generator.parameters(), lr=lr, betas=(0.5, 0.999))\n",
    "optimizer_d = optim.Adam(discriminator.parameters(), lr=lr, betas=(0.5, 0.999))\n"
   ]
  },
  {
   "cell_type": "code",
   "execution_count": 13,
   "metadata": {},
   "outputs": [
    {
     "name": "stdout",
     "output_type": "stream",
     "text": [
      "Epoch [1/5] | D Loss: 0.7862 | G Loss: 1.8748\n",
      "Epoch [2/5] | D Loss: 0.8254 | G Loss: 1.6127\n",
      "Epoch [3/5] | D Loss: 0.4871 | G Loss: 2.2669\n",
      "Epoch [4/5] | D Loss: 0.6106 | G Loss: 2.4565\n",
      "Epoch [5/5] | D Loss: 0.5468 | G Loss: 2.1538\n"
     ]
    }
   ],
   "source": [
    "for epoch in range(num_epochs):\n",
    "    for real_images, _ in train_loader:\n",
    "        real_images = real_images.to(device)\n",
    "        batch_size_curr = real_images.size(0)\n",
    "        \n",
    "        # ========== Train Discriminator ==========\n",
    "\n",
    "        # 1) Real images\n",
    "        # Label = 1.0 for real\n",
    "        real_labels = torch.ones(batch_size_curr, 1).to(device)\n",
    "        # Pass real images through the discriminator\n",
    "        d_out_real = discriminator(real_images)\n",
    "        d_loss_real = criterion(d_out_real, real_labels)\n",
    "        \n",
    "        # 2) Fake images\n",
    "        # Label = 0.0 for fake\n",
    "        noise = torch.randn(batch_size_curr, z_dim, device=device)\n",
    "        fake_images = generator(noise)\n",
    "        fake_labels = torch.zeros(batch_size_curr, 1).to(device)\n",
    "        # Pass fake images through the discriminator\n",
    "        d_out_fake = discriminator(fake_images.detach())  \n",
    "        # Use .detach() so we don't backprop through the generator on this step\n",
    "        d_loss_fake = criterion(d_out_fake, fake_labels)\n",
    "        \n",
    "        # Total discriminator loss\n",
    "        d_loss = d_loss_real + d_loss_fake\n",
    "        \n",
    "        # Backprop and update the discriminator\n",
    "        optimizer_d.zero_grad()\n",
    "        d_loss.backward()\n",
    "        optimizer_d.step()\n",
    "        \n",
    "        # ========== Train Generator ==========\n",
    "\n",
    "        # For generator, we want the fake images to be classified as real (label=1)\n",
    "        # so we compute the loss with real_labels (ones).\n",
    "        g_out = discriminator(fake_images)  # no detach() here\n",
    "        g_loss = criterion(g_out, real_labels)\n",
    "        \n",
    "        # Backprop and update the generator\n",
    "        optimizer_g.zero_grad()\n",
    "        g_loss.backward()\n",
    "        optimizer_g.step()\n",
    "\n",
    "    print(f\"Epoch [{epoch+1}/{num_epochs}] | \"\n",
    "          f\"D Loss: {d_loss.item():.4f} | \"\n",
    "          f\"G Loss: {g_loss.item():.4f}\")\n"
   ]
  },
  {
   "cell_type": "code",
   "execution_count": 14,
   "metadata": {},
   "outputs": [
    {
     "data": {
      "image/png": "[encoded data removed]",
      "text/plain": [
       "<Figure size 600x600 with 16 Axes>"
      ]
     },
     "metadata": {},
     "output_type": "display_data"
    }
   ],
   "source": [
    "import numpy as np\n",
    "\n",
    "# Generate some images\n",
    "generator.eval()\n",
    "with torch.no_grad():\n",
    "    test_noise = torch.randn(16, z_dim, device=device)\n",
    "    fake_samples = generator(test_noise)\n",
    "\n",
    "# Move to CPU for plotting\n",
    "fake_samples = fake_samples.cpu().numpy()\n",
    "\n",
    "# Plot a 4x4 grid of generated images\n",
    "fig, axes = plt.subplots(4, 4, figsize=(6, 6))\n",
    "for i in range(16):\n",
    "    row, col = divmod(i, 4)\n",
    "    axes[row, col].imshow(fake_samples[i, 0], cmap='gray', vmin=0, vmax=1)\n",
    "    axes[row, col].axis('off')\n",
    "\n",
    "plt.tight_layout()\n",
    "plt.show()\n"
   ]
  }
 ],
 "metadata": {
  "kernelspec": {
   "display_name": "myenv",
   "language": "python",
   "name": "python3"
  },
  "language_info": {
   "codemirror_mode": {
    "name": "ipython",
    "version": 3
   },
   "file_extension": ".py",
   "mimetype": "text/x-python",
   "name": "python",
   "nbconvert_exporter": "python",
   "pygments_lexer": "ipython3",
   "version": "3.11.8"
  }
 },
 "nbformat": 4,
 "nbformat_minor": 2
}
